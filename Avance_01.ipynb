{
  "nbformat": 4,
  "nbformat_minor": 0,
  "metadata": {
    "colab": {
      "name": "assignment01.ipynb",
      "provenance": [],
      "include_colab_link": true
    },
    "kernelspec": {
      "name": "python3",
      "display_name": "Python 3"
    },
    "language_info": {
      "name": "python"
    }
  },
  "cells": [
    {
      "cell_type": "markdown",
      "metadata": {
        "id": "view-in-github",
        "colab_type": "text"
      },
      "source": [
        "<a href=\"https://colab.research.google.com/github/PosgradoMNA/actividades-del-projecto-equipo_98/blob/main/Avance_01.ipynb\" target=\"_parent\"><img src=\"https://colab.research.google.com/assets/colab-badge.svg\" alt=\"Open In Colab\"/></a>"
      ]
    },
    {
      "cell_type": "markdown",
      "source": [],
      "metadata": {
        "id": "YwvW5GTeORbO"
      }
    },
    {
      "cell_type": "code",
      "execution_count": null,
      "metadata": {
        "id": "LzUSMM79NR9P",
        "outputId": "fcef1f4e-bbcb-4a38-de33-85fe3c12ceed",
        "colab": {
          "base_uri": "https://localhost:8080/"
        }
      },
      "outputs": [
        {
          "output_type": "stream",
          "name": "stdout",
          "text": [
            "BASE DE DATOS MINSALUD - CALIDAD EPS\n"
          ]
        }
      ],
      "source": [
        "print('BASE DE DATOS MINSALUD - CALIDAD EPS')"
      ]
    },
    {
      "cell_type": "markdown",
      "source": [
        "**Ministerio de Salud**: https://www.minsalud.gov.co/Paginas/datos-abiertos.aspx"
      ],
      "metadata": {
        "id": "GXdxvEdf8SL7"
      }
    },
    {
      "cell_type": "code",
      "source": [
        "Redacción de una página, en jupyter notebook, como máximo que incluya lo siguiente:\n",
        "\n",
        "1. El nombre que caracteriza el conjunto de datos:\n",
        "Clicsalud- Indicadores de calidad EPS\n",
        "Indicadores de calidad EPS 2020\n",
        "\n",
        "2. La organización que lo generó:\n",
        "\n",
        "Ministerio de Salud - Gobierno de Colombia\n",
        "\n",
        "3. Incluya un enlace de Internet donde se puedan descargar en línea y enviar como una hoja de cálculo junto con su informe correspondiente:\n",
        "\n",
        "https://www.datos.gov.co/Salud-y-Protecci-n-Social/Clicsalud-Indicadores-de-calidad-EPS/vw9t-pugy/data\n",
        "\n",
        "\n",
        "4. Describe el conjunto de datos. ¿Qué datos contiene?:\n",
        "\n",
        "Código de la EPS\n",
        "id de la EPS\n",
        "Nombres de las EPS\n",
        "Nombre de Categorias\n",
        "Nombre Servicio que presta la EPS\n",
        "Nombre Especifique (Especificación del Servicio o Especialidad)\n",
        "Nombre indicador (Tiempo Promedio de Espera)\n",
        "Resultado: Cantidad en días de espera\n",
        "Nombre unidad: Unidad en tiempo especificada en días\n",
        "Nombre fuente: Nombre de donde se obtienen los datos MIN Salud\n",
        "fecha_corte: Rango por especificado por semestres y trimestres desde el año 2016 al 2021\n",
        "linkfuente: Link de obtención de los información.\n",
        "\n",
        "\n",
        "5. ¿Cuáles son algunas de las preguntas de investigación que podría responder con estos datos? Enumere al menos OCHO (no responda las preguntas):\n",
        "\n",
        "1. ¿Cuál es el tiempo promedio de espera de un paciente para la asignación de cita de Medicina General en Colombia?\n",
        "2. ¿Cuál es el tiempo promedio de espera de un paciente para la asignación de cita de Odontología General en Colombia?\n",
        "3. ¿Cuál es la EPS que presenta mayor tiempo de espera para un paciente en la asignación de cita de Medicina General en Colombia?\n",
        "4. ¿Cuál es la EPS que presenta mayor tiempo de espera para un paciente en la asignación de cita de Odontología General General en Colombia?\n",
        "5. ¿Cuál es la EPS que presenta menor tiempo de espera para un paciente en la asignación de cita de Medicina General en Colombia?\n",
        "6. ¿Cuál es la EPS que presenta menor tiempo de espera para un paciente en la asignación de cita de Odontología General General en Colombia?\n",
        "7. ¿En qué año se presenta el mayor tiempo de espera para la asignación de cita de Medicina General en Colombia?\n",
        "8. ¿En qué año se presenta el mayor tiempo de espera para la asignación de cita Odontología General General en Colombia?\n",
        "9. ¿En qué año se presenta el menor tiempo de espera para la asignación de cita de Medicina General?\n",
        "10. ¿En qué año se presenta el menor tiempo de espera para la asignación de cita de Odontología General General en Colombia?\n",
        "11. ¿Cuál es la especialidad que presenta mayor tiempo de espera para la asignación de una cita?\n",
        "12. ¿Cuál es la especialidad que presenta menor tiempo de espera para la asignación de una cita?\n",
        "13. ¿Cuánto tiempo promedio tarda una autorización para una Cirugía de Reemplazo de Cadera en Colombia?\n",
        "14. ¿Cuál es la EPS que tarda menos tiempo en autorizar una Cirugía de Reemplazo de Cadera en Colombia?\n",
        "15. ¿Cuál es la EPS que tarda mayor tiempo en autorizar una Cirugía de Reemplazo de Cadera en Colombia?\n",
        "\n",
        "6. ¿Qué actor (empresa, sector de la sociedad, organismo descentralizado, gobierno, etc.) estaría interesado en las preguntas mencionadas que identificó?:\n",
        "\n",
        "Las organizaciones extranjeras que deseen invertir en los servicios de salud en Colombia ya que en nuestro país ofrece calidad a bajo costo.\n",
        "Las entidades públicas (Gobierno de Colombia)\n",
        "El ciudadano colombiano que tiene la posibilidad de elegir su sistema de Salud (EPS).\n",
        "El sector privado.\n"
      ],
      "metadata": {
        "id": "mxM_WppZPMFx"
      },
      "execution_count": null,
      "outputs": []
    }
  ]
}