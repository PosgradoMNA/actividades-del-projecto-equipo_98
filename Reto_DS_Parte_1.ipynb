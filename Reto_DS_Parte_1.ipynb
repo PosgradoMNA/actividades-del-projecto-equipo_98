{
  "nbformat": 4,
  "nbformat_minor": 0,
  "metadata": {
    "colab": {
      "provenance": [],
      "authorship_tag": "ABX9TyOvSy0pKcqttx6bn37v1Axo",
      "include_colab_link": true
    },
    "kernelspec": {
      "name": "python3",
      "display_name": "Python 3"
    },
    "language_info": {
      "name": "python"
    }
  },
  "cells": [
    {
      "cell_type": "markdown",
      "metadata": {
        "id": "view-in-github",
        "colab_type": "text"
      },
      "source": [
        "<a href=\"https://colab.research.google.com/github/PosgradoMNA/actividades-del-projecto-equipo_98/blob/main/Reto_DS_Parte_1.ipynb\" target=\"_parent\"><img src=\"https://colab.research.google.com/assets/colab-badge.svg\" alt=\"Open In Colab\"/></a>"
      ]
    },
    {
      "cell_type": "markdown",
      "source": [
        "\n",
        "<img src=\"https://static.wikia.nocookie.net/tecdemonterrey/images/1/1b/Logo_Tec_azul.png/revision/latest?cb=20190219041656&path-prefix=es\" width=\"230\" />\n",
        "\n",
        "## **Actividad Semanal 8- Reto**\n",
        "\n",
        "\n",
        "----\n",
        "\n",
        "**Datos generales**\n",
        "---\n",
        "**Alumna:**\n",
        "\n",
        "| Nombre | Matrícula del estudiante\n",
        "|---|---|\n",
        "| Andrés Felipe Velasco Muñoz | **A01676755** |\n",
        "| Helmy Andrea Moreno Navarro | **A01793918** |\n",
        "\n",
        "\n",
        ">**Materia:** Ciencia y Análistica de Datos (Gpo 10)\n",
        "\n",
        ">**Profesora Titular:** María de la Paz Rico\n",
        "\n",
        "\n",
        "16 de noviembre 2022"
      ],
      "metadata": {
        "id": "fGZKJIvbpm9S"
      }
    },
    {
      "cell_type": "markdown",
      "source": [
        "#**Introducción**"
      ],
      "metadata": {
        "id": "sz79Hu0qpjLC"
      }
    },
    {
      "cell_type": "markdown",
      "source": [
        "# **Objetivos**"
      ],
      "metadata": {
        "id": "5Qy4Lsr1pZ4D"
      }
    },
    {
      "cell_type": "code",
      "execution_count": 64,
      "metadata": {
        "colab": {
          "base_uri": "https://localhost:8080/"
        },
        "id": "kq9FyWnbS2L7",
        "outputId": "708ad40c-79e8-4a06-e6a0-d1c460c3de90"
      },
      "outputs": [
        {
          "output_type": "stream",
          "name": "stdout",
          "text": [
            "Drive already mounted at /content/drive; to attempt to forcibly remount, call drive.mount(\"/content/drive\", force_remount=True).\n"
          ]
        }
      ],
      "source": [
        "import pandas as pd\n",
        "import numpy as np\n",
        "import seaborn as sns\n",
        "import matplotlib.pyplot as plt\n",
        "\n",
        "from google.colab import drive\n",
        "drive.mount('/content/drive')"
      ]
    },
    {
      "cell_type": "markdown",
      "source": [
        "#**Limpieza, análisis, visualización y agrupamiento.**"
      ],
      "metadata": {
        "id": "usyZ3G6lnMYE"
      }
    },
    {
      "cell_type": "markdown",
      "source": [
        "#Importar datos"
      ],
      "metadata": {
        "id": "ZQIiP2D2Y2HT"
      }
    },
    {
      "cell_type": "code",
      "source": [
        "df_sub = \"/content/drive/MyDrive/Colab Notebooks/MNA DS/Reto DS/Datos_de_calidad_del_agua_de_sitios_de_monitoreo_de_aguas_subterraneas_2020.csv\"\n",
        "df = pd.read_csv(df_sub, sep=\",\", encoding='ISO-8859-1')\n",
        "df\n"
      ],
      "metadata": {
        "colab": {
          "base_uri": "https://localhost:8080/",
          "height": 765
        },
        "id": "OpsbrpY2ZhUa",
        "outputId": "9b20b394-91b6-44e9-c5d1-1fea5d056763"
      },
      "execution_count": 96,
      "outputs": [
        {
          "output_type": "execute_result",
          "data": {
            "text/plain": [
              "            CLAVE                                     SITIO  \\\n",
              "0          DLAGU6                              POZO SAN GIL   \n",
              "1       DLAGU6516                    POZO R013 CAÑADA HONDA   \n",
              "2          DLAGU7                                POZO COSIO   \n",
              "3          DLAGU9                        POZO EL SALITRILLO   \n",
              "4        DLBAJ107                        RANCHO EL TECOLOTE   \n",
              "...           ...                                       ...   \n",
              "1063  OCRBR5101M1              L-310 (COMUNIDAD SAN MANUEL)   \n",
              "1064  OCRBR5102M1  L-305 (EJIDO OJO DE AGUA LAS CRUCESITAS)   \n",
              "1065  OCRBR5105M2                HACIENDA MEXIQUITO POZO 01   \n",
              "1066  OCRBR5106M1                     COMUNIDAD LOS POCITOS   \n",
              "1067  OCRBR5109M1                      COMUNIDAD LA REFORMA   \n",
              "\n",
              "               ORGANISMO_DE_CUENCA               ESTADO          MUNICIPIO  \\\n",
              "0          LERMA SANTIAGO PACIFICO       AGUASCALIENTES           ASIENTOS   \n",
              "1          LERMA SANTIAGO PACIFICO       AGUASCALIENTES     AGUASCALIENTES   \n",
              "2          LERMA SANTIAGO PACIFICO       AGUASCALIENTES              COSIO   \n",
              "3          LERMA SANTIAGO PACIFICO       AGUASCALIENTES    RINCON DE ROMOS   \n",
              "4     PENINSULA DE BAJA CALIFORNIA  BAJA CALIFORNIA SUR             LA PAZ   \n",
              "...                            ...                  ...                ...   \n",
              "1063                     RIO BRAVO           NUEVO LEON            LINARES   \n",
              "1064                     RIO BRAVO           NUEVO LEON            LINARES   \n",
              "1065                     RIO BRAVO           NUEVO LEON  CADEREYTA JIMENEZ   \n",
              "1066                     RIO BRAVO           NUEVO LEON            GALEANA   \n",
              "1067                     RIO BRAVO           NUEVO LEON            GALEANA   \n",
              "\n",
              "                     ACUIFERO SUBTIPO   LONGITUD   LATITUD  PERIODO  ...  \\\n",
              "0          VALLE DE CHICALOTE    POZO -102.02210  22.20887     2020  ...   \n",
              "1          VALLE DE CHICALOTE    POZO -102.20075  21.99958     2020  ...   \n",
              "2     VALLE DE AGUASCALIENTES    POZO -102.28801  22.36685     2020  ...   \n",
              "3     VALLE DE AGUASCALIENTES    POZO -102.29449  22.18435     2020  ...   \n",
              "4                TODOS SANTOS    POZO -110.24480  23.45138     2020  ...   \n",
              "...                       ...     ...        ...       ...      ...  ...   \n",
              "1063            CITRICOLA SUR    POZO  -99.54191  24.76036     2020  ...   \n",
              "1064            CITRICOLA SUR    POZO  -99.70099  24.78280     2020  ...   \n",
              "1065          CITRICOLA NORTE    POZO  -99.82249  25.55197     2020  ...   \n",
              "1066    NAVIDAD-POTOSI-RAICES    POZO -100.32683  24.80118     2020  ...   \n",
              "1067    NAVIDAD-POTOSI-RAICES    POZO -100.73302  25.09380     2020  ...   \n",
              "\n",
              "      CUMPLE_CON_DUR CUMPLE_CON_CF  CUMPLE_CON_NO3 CUMPLE_CON_AS  \\\n",
              "0                 SI            SI              SI            SI   \n",
              "1                 SI            SI              SI            SI   \n",
              "2                 SI            SI              SI            NO   \n",
              "3                 SI            SI              SI            SI   \n",
              "4                 SI            SI              NO            SI   \n",
              "...              ...           ...             ...           ...   \n",
              "1063              NO            SI              NO            SI   \n",
              "1064              SI            SI              NO            SI   \n",
              "1065              NO            SI              NO            SI   \n",
              "1066              SI            SI              SI            SI   \n",
              "1067              SI            SI              SI            SI   \n",
              "\n",
              "      CUMPLE_CON_CD CUMPLE_CON_CR CUMPLE_CON_HG CUMPLE_CON_PB CUMPLE_CON_MN  \\\n",
              "0                SI            SI            SI            SI            SI   \n",
              "1                SI            SI            SI            SI            SI   \n",
              "2                SI            SI            SI            SI            SI   \n",
              "3                SI            SI            SI            SI            SI   \n",
              "4                SI            SI            SI            SI            SI   \n",
              "...             ...           ...           ...           ...           ...   \n",
              "1063             SI            SI            SI            SI            SI   \n",
              "1064             SI            SI            SI            SI            SI   \n",
              "1065             SI            SI            SI            SI            SI   \n",
              "1066             SI            SI            SI            SI            SI   \n",
              "1067             SI            SI            SI            SI            SI   \n",
              "\n",
              "     CUMPLE_CON_FE  \n",
              "0               SI  \n",
              "1               SI  \n",
              "2               SI  \n",
              "3               SI  \n",
              "4               SI  \n",
              "...            ...  \n",
              "1063            SI  \n",
              "1064            SI  \n",
              "1065            SI  \n",
              "1066            SI  \n",
              "1067            SI  \n",
              "\n",
              "[1068 rows x 57 columns]"
            ],
            "text/html": [
              "\n",
              "  <div id=\"df-e01a13cf-c626-4a24-bbf7-ee0048377e18\">\n",
              "    <div class=\"colab-df-container\">\n",
              "      <div>\n",
              "<style scoped>\n",
              "    .dataframe tbody tr th:only-of-type {\n",
              "        vertical-align: middle;\n",
              "    }\n",
              "\n",
              "    .dataframe tbody tr th {\n",
              "        vertical-align: top;\n",
              "    }\n",
              "\n",
              "    .dataframe thead th {\n",
              "        text-align: right;\n",
              "    }\n",
              "</style>\n",
              "<table border=\"1\" class=\"dataframe\">\n",
              "  <thead>\n",
              "    <tr style=\"text-align: right;\">\n",
              "      <th></th>\n",
              "      <th>CLAVE</th>\n",
              "      <th>SITIO</th>\n",
              "      <th>ORGANISMO_DE_CUENCA</th>\n",
              "      <th>ESTADO</th>\n",
              "      <th>MUNICIPIO</th>\n",
              "      <th>ACUIFERO</th>\n",
              "      <th>SUBTIPO</th>\n",
              "      <th>LONGITUD</th>\n",
              "      <th>LATITUD</th>\n",
              "      <th>PERIODO</th>\n",
              "      <th>...</th>\n",
              "      <th>CUMPLE_CON_DUR</th>\n",
              "      <th>CUMPLE_CON_CF</th>\n",
              "      <th>CUMPLE_CON_NO3</th>\n",
              "      <th>CUMPLE_CON_AS</th>\n",
              "      <th>CUMPLE_CON_CD</th>\n",
              "      <th>CUMPLE_CON_CR</th>\n",
              "      <th>CUMPLE_CON_HG</th>\n",
              "      <th>CUMPLE_CON_PB</th>\n",
              "      <th>CUMPLE_CON_MN</th>\n",
              "      <th>CUMPLE_CON_FE</th>\n",
              "    </tr>\n",
              "  </thead>\n",
              "  <tbody>\n",
              "    <tr>\n",
              "      <th>0</th>\n",
              "      <td>DLAGU6</td>\n",
              "      <td>POZO SAN GIL</td>\n",
              "      <td>LERMA SANTIAGO PACIFICO</td>\n",
              "      <td>AGUASCALIENTES</td>\n",
              "      <td>ASIENTOS</td>\n",
              "      <td>VALLE DE CHICALOTE</td>\n",
              "      <td>POZO</td>\n",
              "      <td>-102.02210</td>\n",
              "      <td>22.20887</td>\n",
              "      <td>2020</td>\n",
              "      <td>...</td>\n",
              "      <td>SI</td>\n",
              "      <td>SI</td>\n",
              "      <td>SI</td>\n",
              "      <td>SI</td>\n",
              "      <td>SI</td>\n",
              "      <td>SI</td>\n",
              "      <td>SI</td>\n",
              "      <td>SI</td>\n",
              "      <td>SI</td>\n",
              "      <td>SI</td>\n",
              "    </tr>\n",
              "    <tr>\n",
              "      <th>1</th>\n",
              "      <td>DLAGU6516</td>\n",
              "      <td>POZO R013 CAÑADA HONDA</td>\n",
              "      <td>LERMA SANTIAGO PACIFICO</td>\n",
              "      <td>AGUASCALIENTES</td>\n",
              "      <td>AGUASCALIENTES</td>\n",
              "      <td>VALLE DE CHICALOTE</td>\n",
              "      <td>POZO</td>\n",
              "      <td>-102.20075</td>\n",
              "      <td>21.99958</td>\n",
              "      <td>2020</td>\n",
              "      <td>...</td>\n",
              "      <td>SI</td>\n",
              "      <td>SI</td>\n",
              "      <td>SI</td>\n",
              "      <td>SI</td>\n",
              "      <td>SI</td>\n",
              "      <td>SI</td>\n",
              "      <td>SI</td>\n",
              "      <td>SI</td>\n",
              "      <td>SI</td>\n",
              "      <td>SI</td>\n",
              "    </tr>\n",
              "    <tr>\n",
              "      <th>2</th>\n",
              "      <td>DLAGU7</td>\n",
              "      <td>POZO COSIO</td>\n",
              "      <td>LERMA SANTIAGO PACIFICO</td>\n",
              "      <td>AGUASCALIENTES</td>\n",
              "      <td>COSIO</td>\n",
              "      <td>VALLE DE AGUASCALIENTES</td>\n",
              "      <td>POZO</td>\n",
              "      <td>-102.28801</td>\n",
              "      <td>22.36685</td>\n",
              "      <td>2020</td>\n",
              "      <td>...</td>\n",
              "      <td>SI</td>\n",
              "      <td>SI</td>\n",
              "      <td>SI</td>\n",
              "      <td>NO</td>\n",
              "      <td>SI</td>\n",
              "      <td>SI</td>\n",
              "      <td>SI</td>\n",
              "      <td>SI</td>\n",
              "      <td>SI</td>\n",
              "      <td>SI</td>\n",
              "    </tr>\n",
              "    <tr>\n",
              "      <th>3</th>\n",
              "      <td>DLAGU9</td>\n",
              "      <td>POZO EL SALITRILLO</td>\n",
              "      <td>LERMA SANTIAGO PACIFICO</td>\n",
              "      <td>AGUASCALIENTES</td>\n",
              "      <td>RINCON DE ROMOS</td>\n",
              "      <td>VALLE DE AGUASCALIENTES</td>\n",
              "      <td>POZO</td>\n",
              "      <td>-102.29449</td>\n",
              "      <td>22.18435</td>\n",
              "      <td>2020</td>\n",
              "      <td>...</td>\n",
              "      <td>SI</td>\n",
              "      <td>SI</td>\n",
              "      <td>SI</td>\n",
              "      <td>SI</td>\n",
              "      <td>SI</td>\n",
              "      <td>SI</td>\n",
              "      <td>SI</td>\n",
              "      <td>SI</td>\n",
              "      <td>SI</td>\n",
              "      <td>SI</td>\n",
              "    </tr>\n",
              "    <tr>\n",
              "      <th>4</th>\n",
              "      <td>DLBAJ107</td>\n",
              "      <td>RANCHO EL TECOLOTE</td>\n",
              "      <td>PENINSULA DE BAJA CALIFORNIA</td>\n",
              "      <td>BAJA CALIFORNIA SUR</td>\n",
              "      <td>LA PAZ</td>\n",
              "      <td>TODOS SANTOS</td>\n",
              "      <td>POZO</td>\n",
              "      <td>-110.24480</td>\n",
              "      <td>23.45138</td>\n",
              "      <td>2020</td>\n",
              "      <td>...</td>\n",
              "      <td>SI</td>\n",
              "      <td>SI</td>\n",
              "      <td>NO</td>\n",
              "      <td>SI</td>\n",
              "      <td>SI</td>\n",
              "      <td>SI</td>\n",
              "      <td>SI</td>\n",
              "      <td>SI</td>\n",
              "      <td>SI</td>\n",
              "      <td>SI</td>\n",
              "    </tr>\n",
              "    <tr>\n",
              "      <th>...</th>\n",
              "      <td>...</td>\n",
              "      <td>...</td>\n",
              "      <td>...</td>\n",
              "      <td>...</td>\n",
              "      <td>...</td>\n",
              "      <td>...</td>\n",
              "      <td>...</td>\n",
              "      <td>...</td>\n",
              "      <td>...</td>\n",
              "      <td>...</td>\n",
              "      <td>...</td>\n",
              "      <td>...</td>\n",
              "      <td>...</td>\n",
              "      <td>...</td>\n",
              "      <td>...</td>\n",
              "      <td>...</td>\n",
              "      <td>...</td>\n",
              "      <td>...</td>\n",
              "      <td>...</td>\n",
              "      <td>...</td>\n",
              "      <td>...</td>\n",
              "    </tr>\n",
              "    <tr>\n",
              "      <th>1063</th>\n",
              "      <td>OCRBR5101M1</td>\n",
              "      <td>L-310 (COMUNIDAD SAN MANUEL)</td>\n",
              "      <td>RIO BRAVO</td>\n",
              "      <td>NUEVO LEON</td>\n",
              "      <td>LINARES</td>\n",
              "      <td>CITRICOLA SUR</td>\n",
              "      <td>POZO</td>\n",
              "      <td>-99.54191</td>\n",
              "      <td>24.76036</td>\n",
              "      <td>2020</td>\n",
              "      <td>...</td>\n",
              "      <td>NO</td>\n",
              "      <td>SI</td>\n",
              "      <td>NO</td>\n",
              "      <td>SI</td>\n",
              "      <td>SI</td>\n",
              "      <td>SI</td>\n",
              "      <td>SI</td>\n",
              "      <td>SI</td>\n",
              "      <td>SI</td>\n",
              "      <td>SI</td>\n",
              "    </tr>\n",
              "    <tr>\n",
              "      <th>1064</th>\n",
              "      <td>OCRBR5102M1</td>\n",
              "      <td>L-305 (EJIDO OJO DE AGUA LAS CRUCESITAS)</td>\n",
              "      <td>RIO BRAVO</td>\n",
              "      <td>NUEVO LEON</td>\n",
              "      <td>LINARES</td>\n",
              "      <td>CITRICOLA SUR</td>\n",
              "      <td>POZO</td>\n",
              "      <td>-99.70099</td>\n",
              "      <td>24.78280</td>\n",
              "      <td>2020</td>\n",
              "      <td>...</td>\n",
              "      <td>SI</td>\n",
              "      <td>SI</td>\n",
              "      <td>NO</td>\n",
              "      <td>SI</td>\n",
              "      <td>SI</td>\n",
              "      <td>SI</td>\n",
              "      <td>SI</td>\n",
              "      <td>SI</td>\n",
              "      <td>SI</td>\n",
              "      <td>SI</td>\n",
              "    </tr>\n",
              "    <tr>\n",
              "      <th>1065</th>\n",
              "      <td>OCRBR5105M2</td>\n",
              "      <td>HACIENDA MEXIQUITO POZO 01</td>\n",
              "      <td>RIO BRAVO</td>\n",
              "      <td>NUEVO LEON</td>\n",
              "      <td>CADEREYTA JIMENEZ</td>\n",
              "      <td>CITRICOLA NORTE</td>\n",
              "      <td>POZO</td>\n",
              "      <td>-99.82249</td>\n",
              "      <td>25.55197</td>\n",
              "      <td>2020</td>\n",
              "      <td>...</td>\n",
              "      <td>NO</td>\n",
              "      <td>SI</td>\n",
              "      <td>NO</td>\n",
              "      <td>SI</td>\n",
              "      <td>SI</td>\n",
              "      <td>SI</td>\n",
              "      <td>SI</td>\n",
              "      <td>SI</td>\n",
              "      <td>SI</td>\n",
              "      <td>SI</td>\n",
              "    </tr>\n",
              "    <tr>\n",
              "      <th>1066</th>\n",
              "      <td>OCRBR5106M1</td>\n",
              "      <td>COMUNIDAD LOS POCITOS</td>\n",
              "      <td>RIO BRAVO</td>\n",
              "      <td>NUEVO LEON</td>\n",
              "      <td>GALEANA</td>\n",
              "      <td>NAVIDAD-POTOSI-RAICES</td>\n",
              "      <td>POZO</td>\n",
              "      <td>-100.32683</td>\n",
              "      <td>24.80118</td>\n",
              "      <td>2020</td>\n",
              "      <td>...</td>\n",
              "      <td>SI</td>\n",
              "      <td>SI</td>\n",
              "      <td>SI</td>\n",
              "      <td>SI</td>\n",
              "      <td>SI</td>\n",
              "      <td>SI</td>\n",
              "      <td>SI</td>\n",
              "      <td>SI</td>\n",
              "      <td>SI</td>\n",
              "      <td>SI</td>\n",
              "    </tr>\n",
              "    <tr>\n",
              "      <th>1067</th>\n",
              "      <td>OCRBR5109M1</td>\n",
              "      <td>COMUNIDAD LA REFORMA</td>\n",
              "      <td>RIO BRAVO</td>\n",
              "      <td>NUEVO LEON</td>\n",
              "      <td>GALEANA</td>\n",
              "      <td>NAVIDAD-POTOSI-RAICES</td>\n",
              "      <td>POZO</td>\n",
              "      <td>-100.73302</td>\n",
              "      <td>25.09380</td>\n",
              "      <td>2020</td>\n",
              "      <td>...</td>\n",
              "      <td>SI</td>\n",
              "      <td>SI</td>\n",
              "      <td>SI</td>\n",
              "      <td>SI</td>\n",
              "      <td>SI</td>\n",
              "      <td>SI</td>\n",
              "      <td>SI</td>\n",
              "      <td>SI</td>\n",
              "      <td>SI</td>\n",
              "      <td>SI</td>\n",
              "    </tr>\n",
              "  </tbody>\n",
              "</table>\n",
              "<p>1068 rows × 57 columns</p>\n",
              "</div>\n",
              "      <button class=\"colab-df-convert\" onclick=\"convertToInteractive('df-e01a13cf-c626-4a24-bbf7-ee0048377e18')\"\n",
              "              title=\"Convert this dataframe to an interactive table.\"\n",
              "              style=\"display:none;\">\n",
              "        \n",
              "  <svg xmlns=\"http://www.w3.org/2000/svg\" height=\"24px\"viewBox=\"0 0 24 24\"\n",
              "       width=\"24px\">\n",
              "    <path d=\"M0 0h24v24H0V0z\" fill=\"none\"/>\n",
              "    <path d=\"M18.56 5.44l.94 2.06.94-2.06 2.06-.94-2.06-.94-.94-2.06-.94 2.06-2.06.94zm-11 1L8.5 8.5l.94-2.06 2.06-.94-2.06-.94L8.5 2.5l-.94 2.06-2.06.94zm10 10l.94 2.06.94-2.06 2.06-.94-2.06-.94-.94-2.06-.94 2.06-2.06.94z\"/><path d=\"M17.41 7.96l-1.37-1.37c-.4-.4-.92-.59-1.43-.59-.52 0-1.04.2-1.43.59L10.3 9.45l-7.72 7.72c-.78.78-.78 2.05 0 2.83L4 21.41c.39.39.9.59 1.41.59.51 0 1.02-.2 1.41-.59l7.78-7.78 2.81-2.81c.8-.78.8-2.07 0-2.86zM5.41 20L4 18.59l7.72-7.72 1.47 1.35L5.41 20z\"/>\n",
              "  </svg>\n",
              "      </button>\n",
              "      \n",
              "  <style>\n",
              "    .colab-df-container {\n",
              "      display:flex;\n",
              "      flex-wrap:wrap;\n",
              "      gap: 12px;\n",
              "    }\n",
              "\n",
              "    .colab-df-convert {\n",
              "      background-color: #E8F0FE;\n",
              "      border: none;\n",
              "      border-radius: 50%;\n",
              "      cursor: pointer;\n",
              "      display: none;\n",
              "      fill: #1967D2;\n",
              "      height: 32px;\n",
              "      padding: 0 0 0 0;\n",
              "      width: 32px;\n",
              "    }\n",
              "\n",
              "    .colab-df-convert:hover {\n",
              "      background-color: #E2EBFA;\n",
              "      box-shadow: 0px 1px 2px rgba(60, 64, 67, 0.3), 0px 1px 3px 1px rgba(60, 64, 67, 0.15);\n",
              "      fill: #174EA6;\n",
              "    }\n",
              "\n",
              "    [theme=dark] .colab-df-convert {\n",
              "      background-color: #3B4455;\n",
              "      fill: #D2E3FC;\n",
              "    }\n",
              "\n",
              "    [theme=dark] .colab-df-convert:hover {\n",
              "      background-color: #434B5C;\n",
              "      box-shadow: 0px 1px 3px 1px rgba(0, 0, 0, 0.15);\n",
              "      filter: drop-shadow(0px 1px 2px rgba(0, 0, 0, 0.3));\n",
              "      fill: #FFFFFF;\n",
              "    }\n",
              "  </style>\n",
              "\n",
              "      <script>\n",
              "        const buttonEl =\n",
              "          document.querySelector('#df-e01a13cf-c626-4a24-bbf7-ee0048377e18 button.colab-df-convert');\n",
              "        buttonEl.style.display =\n",
              "          google.colab.kernel.accessAllowed ? 'block' : 'none';\n",
              "\n",
              "        async function convertToInteractive(key) {\n",
              "          const element = document.querySelector('#df-e01a13cf-c626-4a24-bbf7-ee0048377e18');\n",
              "          const dataTable =\n",
              "            await google.colab.kernel.invokeFunction('convertToInteractive',\n",
              "                                                     [key], {});\n",
              "          if (!dataTable) return;\n",
              "\n",
              "          const docLinkHtml = 'Like what you see? Visit the ' +\n",
              "            '<a target=\"_blank\" href=https://colab.research.google.com/notebooks/data_table.ipynb>data table notebook</a>'\n",
              "            + ' to learn more about interactive tables.';\n",
              "          element.innerHTML = '';\n",
              "          dataTable['output_type'] = 'display_data';\n",
              "          await google.colab.output.renderOutput(dataTable, element);\n",
              "          const docLink = document.createElement('div');\n",
              "          docLink.innerHTML = docLinkHtml;\n",
              "          element.appendChild(docLink);\n",
              "        }\n",
              "      </script>\n",
              "    </div>\n",
              "  </div>\n",
              "  "
            ]
          },
          "metadata": {},
          "execution_count": 96
        }
      ]
    },
    {
      "cell_type": "code",
      "source": [
        "df.shape"
      ],
      "metadata": {
        "colab": {
          "base_uri": "https://localhost:8080/"
        },
        "id": "BFNQoDhX9Dem",
        "outputId": "eb6dbf11-0e39-4ce9-e124-eaa01303750d"
      },
      "execution_count": 97,
      "outputs": [
        {
          "output_type": "execute_result",
          "data": {
            "text/plain": [
              "(1068, 57)"
            ]
          },
          "metadata": {},
          "execution_count": 97
        }
      ]
    },
    {
      "cell_type": "code",
      "source": [
        "df.info()"
      ],
      "metadata": {
        "colab": {
          "base_uri": "https://localhost:8080/"
        },
        "id": "XTHf7Rvg96_N",
        "outputId": "cd054e62-730a-43a7-e764-5e1d1b9cee09"
      },
      "execution_count": 98,
      "outputs": [
        {
          "output_type": "stream",
          "name": "stdout",
          "text": [
            "<class 'pandas.core.frame.DataFrame'>\n",
            "RangeIndex: 1068 entries, 0 to 1067\n",
            "Data columns (total 57 columns):\n",
            " #   Column                Non-Null Count  Dtype  \n",
            "---  ------                --------------  -----  \n",
            " 0   CLAVE                 1068 non-null   object \n",
            " 1   SITIO                 1068 non-null   object \n",
            " 2   ORGANISMO_DE_CUENCA   1068 non-null   object \n",
            " 3   ESTADO                1068 non-null   object \n",
            " 4   MUNICIPIO             1068 non-null   object \n",
            " 5   ACUIFERO              1068 non-null   object \n",
            " 6   SUBTIPO               1068 non-null   object \n",
            " 7   LONGITUD              1068 non-null   float64\n",
            " 8   LATITUD               1068 non-null   float64\n",
            " 9   PERIODO               1068 non-null   int64  \n",
            " 10  ALC_mg/L              1064 non-null   float64\n",
            " 11  CALIDAD_ALC           1064 non-null   object \n",
            " 12  CONDUCT_mS/cm         1062 non-null   float64\n",
            " 13  CALIDAD_CONDUC        1062 non-null   object \n",
            " 14  SDT_mg/L              0 non-null      float64\n",
            " 15  SDT_M_mg/L            1066 non-null   object \n",
            " 16  CALIDAD_SDT_ra        1066 non-null   object \n",
            " 17  CALIDAD_SDT_salin     1066 non-null   object \n",
            " 18  FLUORUROS_mg/L        1068 non-null   object \n",
            " 19  CALIDAD_FLUO          1068 non-null   object \n",
            " 20  DUR_mg/L              1067 non-null   object \n",
            " 21  CALIDAD_DUR           1067 non-null   object \n",
            " 22  COLI_FEC_NMP/100_mL   1068 non-null   object \n",
            " 23  CALIDAD_COLI_FEC      1068 non-null   object \n",
            " 24  N_NO3_mg/L            1067 non-null   object \n",
            " 25  CALIDAD_N_NO3         1067 non-null   object \n",
            " 26  AS_TOT_mg/L           1068 non-null   object \n",
            " 27  CALIDAD_AS            1068 non-null   object \n",
            " 28  CD_TOT_mg/L           1068 non-null   object \n",
            " 29  CALIDAD_CD            1068 non-null   object \n",
            " 30  CR_TOT_mg/L           1068 non-null   object \n",
            " 31  CALIDAD_CR            1068 non-null   object \n",
            " 32  HG_TOT_mg/L           1068 non-null   object \n",
            " 33  CALIDAD_HG            1068 non-null   object \n",
            " 34  PB_TOT_mg/L           1068 non-null   object \n",
            " 35  CALIDAD_PB            1068 non-null   object \n",
            " 36  MN_TOT_mg/L           1068 non-null   object \n",
            " 37  CALIDAD_MN            1068 non-null   object \n",
            " 38  FE_TOT_mg/L           1068 non-null   object \n",
            " 39  CALIDAD_FE            1068 non-null   object \n",
            " 40  SEMAFORO              1068 non-null   object \n",
            " 41  CONTAMINANTES         634 non-null    object \n",
            " 42  CUMPLE_CON_ALC        1068 non-null   object \n",
            " 43  CUMPLE_CON_COND       1068 non-null   object \n",
            " 44  CUMPLE_CON_SDT_ra     1068 non-null   object \n",
            " 45  CUMPLE_CON_SDT_salin  1068 non-null   object \n",
            " 46  CUMPLE_CON_FLUO       1068 non-null   object \n",
            " 47  CUMPLE_CON_DUR        1068 non-null   object \n",
            " 48  CUMPLE_CON_CF         1068 non-null   object \n",
            " 49  CUMPLE_CON_NO3        1068 non-null   object \n",
            " 50  CUMPLE_CON_AS         1068 non-null   object \n",
            " 51  CUMPLE_CON_CD         1068 non-null   object \n",
            " 52  CUMPLE_CON_CR         1068 non-null   object \n",
            " 53  CUMPLE_CON_HG         1068 non-null   object \n",
            " 54  CUMPLE_CON_PB         1068 non-null   object \n",
            " 55  CUMPLE_CON_MN         1068 non-null   object \n",
            " 56  CUMPLE_CON_FE         1068 non-null   object \n",
            "dtypes: float64(5), int64(1), object(51)\n",
            "memory usage: 475.7+ KB\n"
          ]
        }
      ]
    },
    {
      "cell_type": "code",
      "source": [
        "df.isna().sum().sort_values(ascending=False)"
      ],
      "metadata": {
        "colab": {
          "base_uri": "https://localhost:8080/"
        },
        "id": "7Ck-WFBh_Q6c",
        "outputId": "047560c1-50dc-4350-d3e9-e56a6c504fc7"
      },
      "execution_count": 99,
      "outputs": [
        {
          "output_type": "execute_result",
          "data": {
            "text/plain": [
              "SDT_mg/L                1068\n",
              "CONTAMINANTES            434\n",
              "CALIDAD_CONDUC             6\n",
              "CONDUCT_mS/cm              6\n",
              "ALC_mg/L                   4\n",
              "CALIDAD_ALC                4\n",
              "CALIDAD_SDT_ra             2\n",
              "SDT_M_mg/L                 2\n",
              "CALIDAD_SDT_salin          2\n",
              "CALIDAD_N_NO3              1\n",
              "CALIDAD_DUR                1\n",
              "N_NO3_mg/L                 1\n",
              "DUR_mg/L                   1\n",
              "CUMPLE_CON_COND            0\n",
              "CUMPLE_CON_ALC             0\n",
              "SEMAFORO                   0\n",
              "CALIDAD_FE                 0\n",
              "FE_TOT_mg/L                0\n",
              "CALIDAD_MN                 0\n",
              "CUMPLE_CON_SDT_ra          0\n",
              "CUMPLE_CON_SDT_salin       0\n",
              "CLAVE                      0\n",
              "CUMPLE_CON_FLUO            0\n",
              "CUMPLE_CON_DUR             0\n",
              "CALIDAD_PB                 0\n",
              "CUMPLE_CON_CF              0\n",
              "CUMPLE_CON_NO3             0\n",
              "CUMPLE_CON_AS              0\n",
              "CUMPLE_CON_CD              0\n",
              "CUMPLE_CON_CR              0\n",
              "CUMPLE_CON_HG              0\n",
              "CUMPLE_CON_PB              0\n",
              "CUMPLE_CON_MN              0\n",
              "MN_TOT_mg/L                0\n",
              "CD_TOT_mg/L                0\n",
              "PB_TOT_mg/L                0\n",
              "CALIDAD_HG                 0\n",
              "ORGANISMO_DE_CUENCA        0\n",
              "ESTADO                     0\n",
              "MUNICIPIO                  0\n",
              "ACUIFERO                   0\n",
              "SUBTIPO                    0\n",
              "LONGITUD                   0\n",
              "LATITUD                    0\n",
              "PERIODO                    0\n",
              "FLUORUROS_mg/L             0\n",
              "CALIDAD_FLUO               0\n",
              "COLI_FEC_NMP/100_mL        0\n",
              "CALIDAD_COLI_FEC           0\n",
              "AS_TOT_mg/L                0\n",
              "CALIDAD_AS                 0\n",
              "SITIO                      0\n",
              "CALIDAD_CD                 0\n",
              "CR_TOT_mg/L                0\n",
              "CALIDAD_CR                 0\n",
              "HG_TOT_mg/L                0\n",
              "CUMPLE_CON_FE              0\n",
              "dtype: int64"
            ]
          },
          "metadata": {},
          "execution_count": 99
        }
      ]
    },
    {
      "cell_type": "code",
      "source": [
        "columnas = []"
      ],
      "metadata": {
        "id": "0yyYfqUUC_yL"
      },
      "execution_count": null,
      "outputs": []
    },
    {
      "cell_type": "markdown",
      "source": [
        "#**Limpieza\n",
        "Datos nulos"
      ],
      "metadata": {
        "id": "8qfUw6WPnRvS"
      }
    },
    {
      "cell_type": "code",
      "source": [],
      "metadata": {
        "id": "6qu3RStRnRSC"
      },
      "execution_count": null,
      "outputs": []
    },
    {
      "cell_type": "markdown",
      "source": [
        "#Análisis\n",
        "Describe(), mean()\n",
        "\n",
        "Identificando tendencias centrales promedio, media y mediana de los datos. \n",
        "Identificar medidas de dispersión, máximo, mínimo."
      ],
      "metadata": {
        "id": "Zm9cgWMunT_a"
      }
    },
    {
      "cell_type": "code",
      "source": [],
      "metadata": {
        "id": "l5RJO4aEnaDi"
      },
      "execution_count": null,
      "outputs": []
    },
    {
      "cell_type": "markdown",
      "source": [
        "#Visualización\n",
        "\n",
        "- lot, boxplot de pandas\n",
        "  - Identificar medidas de dispersión, máximo, mínimo.\n",
        "  - Identificar medidas de posición no centrales , los cuartiles , outliers.  "
      ],
      "metadata": {
        "id": "3rVIo3q7nbWr"
      }
    },
    {
      "cell_type": "code",
      "source": [],
      "metadata": {
        "id": "7krdNWrTnkqS"
      },
      "execution_count": null,
      "outputs": []
    },
    {
      "cell_type": "markdown",
      "source": [
        "#**Identificar correlaciones.**\n",
        "\n",
        "r2"
      ],
      "metadata": {
        "id": "_nB9TnM-o4aU"
      }
    },
    {
      "cell_type": "markdown",
      "source": [
        "#Agrupamiento"
      ],
      "metadata": {
        "id": "jybqvN1Gnn6S"
      }
    },
    {
      "cell_type": "code",
      "source": [],
      "metadata": {
        "id": "3aYxc5JAnraT"
      },
      "execution_count": null,
      "outputs": []
    },
    {
      "cell_type": "markdown",
      "source": [
        "# Parte 2\n",
        "\n",
        "2. Realizar análisis para encontrar si existe una relación entre la calidad del agua y su ubicación geográfica a través de **K- means.**"
      ],
      "metadata": {
        "id": "IcxMDwb8pApa"
      }
    },
    {
      "cell_type": "markdown",
      "source": [
        "# Resultados\n",
        "\n",
        "Mostrar resultados de agrupamiento de latitudes y longitudes con K means en el mapa de México."
      ],
      "metadata": {
        "id": "iNzxiuNFpLMy"
      }
    }
  ]
}