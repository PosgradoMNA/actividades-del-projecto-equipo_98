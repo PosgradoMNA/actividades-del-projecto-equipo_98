{
  "nbformat": 4,
  "nbformat_minor": 0,
  "metadata": {
    "colab": {
      "provenance": [],
      "authorship_tag": "ABX9TyNI47s9E2+fIvN8U+82jaju",
      "include_colab_link": true
    },
    "kernelspec": {
      "name": "python3",
      "display_name": "Python 3"
    },
    "language_info": {
      "name": "python"
    }
  },
  "cells": [
    {
      "cell_type": "markdown",
      "metadata": {
        "id": "view-in-github",
        "colab_type": "text"
      },
      "source": [
        "<a href=\"https://colab.research.google.com/github/PosgradoMNA/actividades-del-projecto-equipo_98/blob/main/Reto_DS_Parte_1.ipynb\" target=\"_parent\"><img src=\"https://colab.research.google.com/assets/colab-badge.svg\" alt=\"Open In Colab\"/></a>"
      ]
    },
    {
      "cell_type": "markdown",
      "source": [
        "\n",
        "<img src=\"https://static.wikia.nocookie.net/tecdemonterrey/images/1/1b/Logo_Tec_azul.png/revision/latest?cb=20190219041656&path-prefix=es\" width=\"230\" />\n",
        "\n",
        "## **Actividad Semanal 8- Reto**\n",
        "\n",
        "\n",
        "----\n",
        "\n",
        "**Datos generales**\n",
        "---\n",
        "**Alumna:**\n",
        "\n",
        "| Nombre | Matrícula del estudiante\n",
        "|---|---|\n",
        "| Andrés Felipe Velasco Muñoz | **A01676755** |\n",
        "| Helmy Andrea Moreno Navarro | **A01793918** |\n",
        "\n",
        "\n",
        ">**Materia:** Ciencia y Análistica de Datos (Gpo 10)\n",
        "\n",
        ">**Profesora Titular:** María de la Paz Rico\n",
        "\n",
        "\n",
        "16 de noviembre 2022"
      ],
      "metadata": {
        "id": "fGZKJIvbpm9S"
      }
    },
    {
      "cell_type": "markdown",
      "source": [
        "#**Introducción**"
      ],
      "metadata": {
        "id": "sz79Hu0qpjLC"
      }
    },
    {
      "cell_type": "markdown",
      "source": [
        "# **Objetivos**"
      ],
      "metadata": {
        "id": "5Qy4Lsr1pZ4D"
      }
    },
    {
      "cell_type": "code",
      "execution_count": 10,
      "metadata": {
        "id": "kq9FyWnbS2L7"
      },
      "outputs": [],
      "source": [
        "import pandas as pd\n",
        "import numpy as np\n",
        "import seaborn as sns\n",
        "import matplotlib.pyplot as plt\n",
        "\n",
        "import requests, zipfile\n",
        "from io import BytesIO\n",
        "\n",
        "# from google.colab import drive\n",
        "# drive.mount('/content/drive')"
      ]
    },
    {
      "cell_type": "markdown",
      "source": [
        "#**Limpieza, análisis, visualización y agrupamiento.**"
      ],
      "metadata": {
        "id": "usyZ3G6lnMYE"
      }
    },
    {
      "cell_type": "markdown",
      "source": [
        "#Importar datos"
      ],
      "metadata": {
        "id": "ZQIiP2D2Y2HT"
      }
    },
    {
      "cell_type": "code",
      "source": [
        "sub = 'http://201.116.60.46/Datos_de_calidad_del_agua_de_5000_sitios_de_monitoreo.zip'\n",
        "req = requests.get(sub)\n",
        "zipfile.ZipFile(BytesIO(req.content)).extractall('unzipped_zip/')\n",
        "\n",
        "df=pd.read_csv('unzipped_zip/Datos_de_calidad_del_agua_2020/Datos_de_calidad_del_agua_de_sitios_de_monitoreo_de_aguas_subterraneas_2020.csv', encoding = 'latin1')\n",
        "df\n"
      ],
      "metadata": {
        "id": "OpsbrpY2ZhUa"
      },
      "execution_count": null,
      "outputs": []
    },
    {
      "cell_type": "code",
      "source": [
        "df_sub = df.copy()\n",
        "df_sub.describe"
      ],
      "metadata": {
        "id": "0t3PifHIaQe9"
      },
      "execution_count": null,
      "outputs": []
    },
    {
      "cell_type": "code",
      "source": [
        "df_sub.columns"
      ],
      "metadata": {
        "id": "VoVfvvX_arKE"
      },
      "execution_count": null,
      "outputs": []
    },
    {
      "cell_type": "code",
      "source": [
        "df_sub.shape"
      ],
      "metadata": {
        "colab": {
          "base_uri": "https://localhost:8080/",
          "height": 174
        },
        "id": "BFNQoDhX9Dem",
        "outputId": "75b58b7b-8e8e-44cc-fc42-4806e30c2d46"
      },
      "execution_count": null,
      "outputs": [
        {
          "output_type": "error",
          "ename": "NameError",
          "evalue": "ignored",
          "traceback": [
            "\u001b[0;31m---------------------------------------------------------------------------\u001b[0m",
            "\u001b[0;31mNameError\u001b[0m                                 Traceback (most recent call last)",
            "\u001b[0;32m<ipython-input-6-fd63617b826f>\u001b[0m in \u001b[0;36m<module>\u001b[0;34m\u001b[0m\n\u001b[0;32m----> 1\u001b[0;31m \u001b[0mdf_sub\u001b[0m\u001b[0;34m.\u001b[0m\u001b[0mshape\u001b[0m\u001b[0;34m\u001b[0m\u001b[0;34m\u001b[0m\u001b[0m\n\u001b[0m",
            "\u001b[0;31mNameError\u001b[0m: name 'df_sub' is not defined"
          ]
        }
      ]
    },
    {
      "cell_type": "code",
      "source": [
        "df_sub.info()"
      ],
      "metadata": {
        "colab": {
          "base_uri": "https://localhost:8080/",
          "height": 174
        },
        "id": "XTHf7Rvg96_N",
        "outputId": "ebfdfd72-5b0a-459a-d5f9-71ad09017a13"
      },
      "execution_count": null,
      "outputs": [
        {
          "output_type": "error",
          "ename": "NameError",
          "evalue": "ignored",
          "traceback": [
            "\u001b[0;31m---------------------------------------------------------------------------\u001b[0m",
            "\u001b[0;31mNameError\u001b[0m                                 Traceback (most recent call last)",
            "\u001b[0;32m<ipython-input-5-1cd8e248b841>\u001b[0m in \u001b[0;36m<module>\u001b[0;34m\u001b[0m\n\u001b[0;32m----> 1\u001b[0;31m \u001b[0mdf_sub\u001b[0m\u001b[0;34m.\u001b[0m\u001b[0minfo\u001b[0m\u001b[0;34m(\u001b[0m\u001b[0;34m)\u001b[0m\u001b[0;34m\u001b[0m\u001b[0;34m\u001b[0m\u001b[0m\n\u001b[0m",
            "\u001b[0;31mNameError\u001b[0m: name 'df_sub' is not defined"
          ]
        }
      ]
    },
    {
      "cell_type": "code",
      "source": [
        "df_sub.isna().sum().sort_values(ascending=False)"
      ],
      "metadata": {
        "colab": {
          "base_uri": "https://localhost:8080/",
          "height": 174
        },
        "id": "7Ck-WFBh_Q6c",
        "outputId": "6d4634d0-8aea-4df3-e4f8-8fbadd39a1f8"
      },
      "execution_count": null,
      "outputs": [
        {
          "output_type": "error",
          "ename": "NameError",
          "evalue": "ignored",
          "traceback": [
            "\u001b[0;31m---------------------------------------------------------------------------\u001b[0m",
            "\u001b[0;31mNameError\u001b[0m                                 Traceback (most recent call last)",
            "\u001b[0;32m<ipython-input-4-9bd29955e1a9>\u001b[0m in \u001b[0;36m<module>\u001b[0;34m\u001b[0m\n\u001b[0;32m----> 1\u001b[0;31m \u001b[0mdf_sub\u001b[0m\u001b[0;34m.\u001b[0m\u001b[0misna\u001b[0m\u001b[0;34m(\u001b[0m\u001b[0;34m)\u001b[0m\u001b[0;34m.\u001b[0m\u001b[0msum\u001b[0m\u001b[0;34m(\u001b[0m\u001b[0;34m)\u001b[0m\u001b[0;34m.\u001b[0m\u001b[0msort_values\u001b[0m\u001b[0;34m(\u001b[0m\u001b[0mascending\u001b[0m\u001b[0;34m=\u001b[0m\u001b[0;32mFalse\u001b[0m\u001b[0;34m)\u001b[0m\u001b[0;34m\u001b[0m\u001b[0;34m\u001b[0m\u001b[0m\n\u001b[0m",
            "\u001b[0;31mNameError\u001b[0m: name 'df_sub' is not defined"
          ]
        }
      ]
    },
    {
      "cell_type": "code",
      "source": [
        "df_sub = df.drop (['CONDUCT_mS/cm', 'CALIDAD_CONDUC', 'SDT_mg/L', 'CALIDAD_SDT_ra', 'CALIDAD_SDT_salin', 'CALIDAD_FLUO', 'CALIDAD_DUR', 'CALIDAD_COLI_FEC', 'CALIDAD_N_NO3', 'CALIDAD_AS', 'CALIDAD_CD', 'CR_TOT_mg/L',\n",
        "                   'CALIDAD_CR', 'CALIDAD_HG', 'CALIDAD_PB', 'CALIDAD_MN', 'CALIDAD_FE', 'CONTAMINANTES', 'CUMPLE_CON_ALC', 'CUMPLE_CON_COND', 'CUMPLE_CON_SDT_ra', 'CUMPLE_CON_SDT_salin', 'CUMPLE_CON_FLUO', 'CUMPLE_CON_DUR',\n",
        "                   'CUMPLE_CON_CF', 'CUMPLE_CON_NO3', 'CUMPLE_CON_AS', 'CUMPLE_CON_CD', 'CUMPLE_CON_CR', 'CUMPLE_CON_HG', 'CUMPLE_CON_PB', 'CUMPLE_CON_MN', 'CUMPLE_CON_FE'], axis = 1) \n",
        "df_sub"
      ],
      "metadata": {
        "colab": {
          "base_uri": "https://localhost:8080/",
          "height": 229
        },
        "id": "0yyYfqUUC_yL",
        "outputId": "9441c900-8692-425b-df18-8ebb5454b4db"
      },
      "execution_count": null,
      "outputs": [
        {
          "output_type": "error",
          "ename": "NameError",
          "evalue": "ignored",
          "traceback": [
            "\u001b[0;31m---------------------------------------------------------------------------\u001b[0m",
            "\u001b[0;31mNameError\u001b[0m                                 Traceback (most recent call last)",
            "\u001b[0;32m<ipython-input-1-74ea6e53d416>\u001b[0m in \u001b[0;36m<module>\u001b[0;34m\u001b[0m\n\u001b[0;32m----> 1\u001b[0;31m df_sub = df.drop (['CONDUCT_mS/cm', 'CALIDAD_CONDUC', 'SDT_mg/L', 'CALIDAD_SDT_ra', 'CALIDAD_SDT_salin', 'CALIDAD_FLUO', 'CALIDAD_DUR', 'CALIDAD_COLI_FEC', 'CALIDAD_N_NO3', 'CALIDAD_AS', 'CALIDAD_CD', 'CR_TOT_mg/L',\n\u001b[0m\u001b[1;32m      2\u001b[0m                    \u001b[0;34m'CALIDAD_CR'\u001b[0m\u001b[0;34m,\u001b[0m \u001b[0;34m'CALIDAD_HG'\u001b[0m\u001b[0;34m,\u001b[0m \u001b[0;34m'CALIDAD_PB'\u001b[0m\u001b[0;34m,\u001b[0m \u001b[0;34m'CALIDAD_MN'\u001b[0m\u001b[0;34m,\u001b[0m \u001b[0;34m'CALIDAD_FE'\u001b[0m\u001b[0;34m,\u001b[0m \u001b[0;34m'CONTAMINANTES'\u001b[0m\u001b[0;34m,\u001b[0m \u001b[0;34m'CUMPLE_CON_ALC'\u001b[0m\u001b[0;34m,\u001b[0m \u001b[0;34m'CUMPLE_CON_COND'\u001b[0m\u001b[0;34m,\u001b[0m \u001b[0;34m'CUMPLE_CON_SDT_ra'\u001b[0m\u001b[0;34m,\u001b[0m \u001b[0;34m'CUMPLE_CON_SDT_salin'\u001b[0m\u001b[0;34m,\u001b[0m \u001b[0;34m'CUMPLE_CON_FLUO'\u001b[0m\u001b[0;34m,\u001b[0m \u001b[0;34m'CUMPLE_CON_DUR'\u001b[0m\u001b[0;34m,\u001b[0m\u001b[0;34m\u001b[0m\u001b[0;34m\u001b[0m\u001b[0m\n\u001b[1;32m      3\u001b[0m                    'CUMPLE_CON_CF', 'CUMPLE_CON_NO3', 'CUMPLE_CON_AS', 'CUMPLE_CON_CD', 'CUMPLE_CON_CR', 'CUMPLE_CON_HG', 'CUMPLE_CON_PB', 'CUMPLE_CON_MN', 'CUMPLE_CON_FE'], axis = 1) \n\u001b[1;32m      4\u001b[0m \u001b[0mdf_sub\u001b[0m\u001b[0;34m\u001b[0m\u001b[0;34m\u001b[0m\u001b[0m\n",
            "\u001b[0;31mNameError\u001b[0m: name 'df' is not defined"
          ]
        }
      ]
    },
    {
      "cell_type": "code",
      "source": [],
      "metadata": {
        "id": "GRlmD9_KfT9q"
      },
      "execution_count": null,
      "outputs": []
    },
    {
      "cell_type": "code",
      "source": [
        "df_ = ['ALC_mg/L','CONDUCT_mS/cm', 'SDT_M_mg/L','FLUORUROS_mg/L','DUR_mg/L','COLI_FEC_NMP/100_mL',\n",
        "                      'N_NO3_mg/L','AS_TOT_mg/L','CD_TOT_mg/L','CR_TOT_mg/L','HG_TOT_mg/L','PB_TOT_mg/L','MN_TOT_mg/L','FE_TOT_mg/L']\n",
        "  "
      ],
      "metadata": {
        "id": "MR_zeBNlfKaS"
      },
      "execution_count": null,
      "outputs": []
    },
    {
      "cell_type": "markdown",
      "source": [
        "#**Limpieza\n",
        "Datos nulos"
      ],
      "metadata": {
        "id": "8qfUw6WPnRvS"
      }
    },
    {
      "cell_type": "code",
      "source": [],
      "metadata": {
        "id": "6qu3RStRnRSC"
      },
      "execution_count": null,
      "outputs": []
    },
    {
      "cell_type": "markdown",
      "source": [
        "#Análisis\n",
        "Describe(), mean()\n",
        "\n",
        "Identificando tendencias centrales promedio, media y mediana de los datos. \n",
        "Identificar medidas de dispersión, máximo, mínimo."
      ],
      "metadata": {
        "id": "Zm9cgWMunT_a"
      }
    },
    {
      "cell_type": "code",
      "source": [],
      "metadata": {
        "id": "l5RJO4aEnaDi"
      },
      "execution_count": null,
      "outputs": []
    },
    {
      "cell_type": "markdown",
      "source": [
        "#Visualización\n",
        "\n",
        "- lot, boxplot de pandas\n",
        "  - Identificar medidas de dispersión, máximo, mínimo.\n",
        "  - Identificar medidas de posición no centrales , los cuartiles , outliers.  "
      ],
      "metadata": {
        "id": "3rVIo3q7nbWr"
      }
    },
    {
      "cell_type": "code",
      "source": [],
      "metadata": {
        "id": "7krdNWrTnkqS"
      },
      "execution_count": null,
      "outputs": []
    },
    {
      "cell_type": "markdown",
      "source": [
        "#**Identificar correlaciones.**\n",
        "\n",
        "r2"
      ],
      "metadata": {
        "id": "_nB9TnM-o4aU"
      }
    },
    {
      "cell_type": "markdown",
      "source": [
        "#Agrupamiento"
      ],
      "metadata": {
        "id": "jybqvN1Gnn6S"
      }
    },
    {
      "cell_type": "code",
      "source": [],
      "metadata": {
        "id": "3aYxc5JAnraT"
      },
      "execution_count": null,
      "outputs": []
    },
    {
      "cell_type": "markdown",
      "source": [
        "# Parte 2\n",
        "\n",
        "2. Realizar análisis para encontrar si existe una relación entre la calidad del agua y su ubicación geográfica a través de **K- means.**"
      ],
      "metadata": {
        "id": "IcxMDwb8pApa"
      }
    },
    {
      "cell_type": "markdown",
      "source": [
        "# Resultados\n",
        "\n",
        "Mostrar resultados de agrupamiento de latitudes y longitudes con K means en el mapa de México."
      ],
      "metadata": {
        "id": "iNzxiuNFpLMy"
      }
    }
  ]
}